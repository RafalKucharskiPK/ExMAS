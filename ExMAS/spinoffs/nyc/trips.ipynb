{
 "cells": [
  {
   "cell_type": "markdown",
   "id": "cbd3fa99-7d69-459f-862f-d132a9857c1d",
   "metadata": {},
   "source": [
    "# ExMAS with NYC data\n",
    "\n",
    "> process input data to generate ExMAS input\n",
    "\n",
    "\n",
    "We use NYC requests data stored at [kaggle](https://www.kaggle.com/yasserh/nyc-taxi-trip-duration/) \n",
    "\n",
    "* please donwload the 'NYC.csv' to run the experiments from [here](https://www.kaggle.com/yasserh/nyc-taxi-trip-duration/?select=NYC.csv)\n",
    "\n"
   ]
  },
  {
   "cell_type": "code",
   "execution_count": 1,
   "id": "4aa3aff1-e7c4-486b-a81d-88e67fc009b4",
   "metadata": {},
   "outputs": [],
   "source": [
    "import pandas as pd\n",
    "import os\n",
    "import geopandas as gpd\n",
    "import osmnx as ox\n",
    "import os\n",
    "cwd = os.getcwd()\n"
   ]
  },
  {
   "cell_type": "code",
   "execution_count": 2,
   "id": "f2f00ee9-85ba-4626-bebe-cdda459568f4",
   "metadata": {},
   "outputs": [],
   "source": [
    "os.chdir(os.path.join(cwd,'../../..'))\n",
    "import ExMAS.main\n",
    "import ExMAS.utils\n",
    "from ExMAS.utils import inData as inData"
   ]
  },
  {
   "cell_type": "code",
   "execution_count": 3,
   "id": "cca824f6-c630-4d33-b8f9-d7f6b6312e25",
   "metadata": {},
   "outputs": [],
   "source": [
    "params = ExMAS.utils.get_config('ExMAS/data/configs/nyc.json') # load the default "
   ]
  },
  {
   "cell_type": "code",
   "execution_count": 4,
   "id": "536d2d10-dd46-4abb-a59a-ebd808e2c8ef",
   "metadata": {},
   "outputs": [],
   "source": [
    "inData = ExMAS.utils.load_G(inData, params, stats = True) # use this if you already have a graph and "
   ]
  },
  {
   "cell_type": "code",
   "execution_count": 5,
   "id": "540c1efe-a1fe-4473-aca9-235ac5fa3438",
   "metadata": {},
   "outputs": [
    {
     "data": {
      "text/html": [
       "<div>\n",
       "<style scoped>\n",
       "    .dataframe tbody tr th:only-of-type {\n",
       "        vertical-align: middle;\n",
       "    }\n",
       "\n",
       "    .dataframe tbody tr th {\n",
       "        vertical-align: top;\n",
       "    }\n",
       "\n",
       "    .dataframe thead th {\n",
       "        text-align: right;\n",
       "    }\n",
       "</style>\n",
       "<table border=\"1\" class=\"dataframe\">\n",
       "  <thead>\n",
       "    <tr style=\"text-align: right;\">\n",
       "      <th></th>\n",
       "      <th>pickup_datetime</th>\n",
       "      <th>dropoff_datetime</th>\n",
       "      <th>pickup_longitude</th>\n",
       "      <th>pickup_latitude</th>\n",
       "      <th>dropoff_longitude</th>\n",
       "      <th>dropoff_latitude</th>\n",
       "      <th>trip_duration</th>\n",
       "    </tr>\n",
       "    <tr>\n",
       "      <th>id</th>\n",
       "      <th></th>\n",
       "      <th></th>\n",
       "      <th></th>\n",
       "      <th></th>\n",
       "      <th></th>\n",
       "      <th></th>\n",
       "      <th></th>\n",
       "    </tr>\n",
       "  </thead>\n",
       "  <tbody>\n",
       "    <tr>\n",
       "      <th>id0190469</th>\n",
       "      <td>2016-01-01 00:00:17</td>\n",
       "      <td>2016-01-01 00:14:26</td>\n",
       "      <td>-73.981743</td>\n",
       "      <td>40.719158</td>\n",
       "      <td>-73.938828</td>\n",
       "      <td>40.829182</td>\n",
       "      <td>849</td>\n",
       "    </tr>\n",
       "    <tr>\n",
       "      <th>id1665586</th>\n",
       "      <td>2016-01-01 00:00:53</td>\n",
       "      <td>2016-01-01 00:22:27</td>\n",
       "      <td>-73.985085</td>\n",
       "      <td>40.747166</td>\n",
       "      <td>-73.958038</td>\n",
       "      <td>40.717491</td>\n",
       "      <td>1294</td>\n",
       "    </tr>\n",
       "    <tr>\n",
       "      <th>id1210365</th>\n",
       "      <td>2016-01-01 00:01:01</td>\n",
       "      <td>2016-01-01 00:07:49</td>\n",
       "      <td>-73.965279</td>\n",
       "      <td>40.801041</td>\n",
       "      <td>-73.947479</td>\n",
       "      <td>40.815170</td>\n",
       "      <td>408</td>\n",
       "    </tr>\n",
       "    <tr>\n",
       "      <th>id3888279</th>\n",
       "      <td>2016-01-01 00:01:14</td>\n",
       "      <td>2016-01-01 00:05:54</td>\n",
       "      <td>-73.982292</td>\n",
       "      <td>40.751331</td>\n",
       "      <td>-73.991341</td>\n",
       "      <td>40.750340</td>\n",
       "      <td>280</td>\n",
       "    </tr>\n",
       "    <tr>\n",
       "      <th>id0924227</th>\n",
       "      <td>2016-01-01 00:01:20</td>\n",
       "      <td>2016-01-01 00:13:36</td>\n",
       "      <td>-73.970108</td>\n",
       "      <td>40.759800</td>\n",
       "      <td>-73.989357</td>\n",
       "      <td>40.742989</td>\n",
       "      <td>736</td>\n",
       "    </tr>\n",
       "    <tr>\n",
       "      <th>...</th>\n",
       "      <td>...</td>\n",
       "      <td>...</td>\n",
       "      <td>...</td>\n",
       "      <td>...</td>\n",
       "      <td>...</td>\n",
       "      <td>...</td>\n",
       "      <td>...</td>\n",
       "    </tr>\n",
       "    <tr>\n",
       "      <th>id1255468</th>\n",
       "      <td>2016-06-30 23:58:52</td>\n",
       "      <td>2016-07-01 00:06:44</td>\n",
       "      <td>-73.982750</td>\n",
       "      <td>40.745289</td>\n",
       "      <td>-73.969002</td>\n",
       "      <td>40.757950</td>\n",
       "      <td>472</td>\n",
       "    </tr>\n",
       "    <tr>\n",
       "      <th>id2013516</th>\n",
       "      <td>2016-06-30 23:59:09</td>\n",
       "      <td>2016-07-01 00:11:43</td>\n",
       "      <td>-73.955109</td>\n",
       "      <td>40.689564</td>\n",
       "      <td>-73.978203</td>\n",
       "      <td>40.685802</td>\n",
       "      <td>754</td>\n",
       "    </tr>\n",
       "    <tr>\n",
       "      <th>id0376262</th>\n",
       "      <td>2016-06-30 23:59:10</td>\n",
       "      <td>2016-07-01 00:41:36</td>\n",
       "      <td>-73.873093</td>\n",
       "      <td>40.774097</td>\n",
       "      <td>-73.926704</td>\n",
       "      <td>40.856739</td>\n",
       "      <td>2546</td>\n",
       "    </tr>\n",
       "    <tr>\n",
       "      <th>id2332349</th>\n",
       "      <td>2016-06-30 23:59:37</td>\n",
       "      <td>2016-07-01 00:23:39</td>\n",
       "      <td>-73.998291</td>\n",
       "      <td>40.722618</td>\n",
       "      <td>-73.971779</td>\n",
       "      <td>40.762470</td>\n",
       "      <td>1442</td>\n",
       "    </tr>\n",
       "    <tr>\n",
       "      <th>id3719493</th>\n",
       "      <td>2016-06-30 23:59:39</td>\n",
       "      <td>2016-07-01 00:43:08</td>\n",
       "      <td>-73.978416</td>\n",
       "      <td>40.791576</td>\n",
       "      <td>-73.973160</td>\n",
       "      <td>40.675968</td>\n",
       "      <td>2609</td>\n",
       "    </tr>\n",
       "  </tbody>\n",
       "</table>\n",
       "<p>1458644 rows × 7 columns</p>\n",
       "</div>"
      ],
      "text/plain": [
       "               pickup_datetime     dropoff_datetime  pickup_longitude  \\\n",
       "id                                                                      \n",
       "id0190469  2016-01-01 00:00:17  2016-01-01 00:14:26        -73.981743   \n",
       "id1665586  2016-01-01 00:00:53  2016-01-01 00:22:27        -73.985085   \n",
       "id1210365  2016-01-01 00:01:01  2016-01-01 00:07:49        -73.965279   \n",
       "id3888279  2016-01-01 00:01:14  2016-01-01 00:05:54        -73.982292   \n",
       "id0924227  2016-01-01 00:01:20  2016-01-01 00:13:36        -73.970108   \n",
       "...                        ...                  ...               ...   \n",
       "id1255468  2016-06-30 23:58:52  2016-07-01 00:06:44        -73.982750   \n",
       "id2013516  2016-06-30 23:59:09  2016-07-01 00:11:43        -73.955109   \n",
       "id0376262  2016-06-30 23:59:10  2016-07-01 00:41:36        -73.873093   \n",
       "id2332349  2016-06-30 23:59:37  2016-07-01 00:23:39        -73.998291   \n",
       "id3719493  2016-06-30 23:59:39  2016-07-01 00:43:08        -73.978416   \n",
       "\n",
       "           pickup_latitude  dropoff_longitude  dropoff_latitude  trip_duration  \n",
       "id                                                                              \n",
       "id0190469        40.719158         -73.938828         40.829182            849  \n",
       "id1665586        40.747166         -73.958038         40.717491           1294  \n",
       "id1210365        40.801041         -73.947479         40.815170            408  \n",
       "id3888279        40.751331         -73.991341         40.750340            280  \n",
       "id0924227        40.759800         -73.989357         40.742989            736  \n",
       "...                    ...                ...               ...            ...  \n",
       "id1255468        40.745289         -73.969002         40.757950            472  \n",
       "id2013516        40.689564         -73.978203         40.685802            754  \n",
       "id0376262        40.774097         -73.926704         40.856739           2546  \n",
       "id2332349        40.722618         -73.971779         40.762470           1442  \n",
       "id3719493        40.791576         -73.973160         40.675968           2609  \n",
       "\n",
       "[1458644 rows x 7 columns]"
      ]
     },
     "execution_count": 5,
     "metadata": {},
     "output_type": "execute_result"
    }
   ],
   "source": [
    "COLS = ['pickup_datetime', 'dropoff_datetime','pickup_longitude', 'pickup_latitude','dropoff_longitude', 'dropoff_latitude','trip_duration']\n",
    "PATH  = os.path.join(params.paths.nyc_trips)\n",
    "df = pd.read_csv(PATH, index_col = 0).sort_values('pickup_datetime')[COLS]\n",
    "df"
   ]
  },
  {
   "cell_type": "code",
   "execution_count": 6,
   "id": "a2e80686-a754-4dad-8abb-f4942b63f2ee",
   "metadata": {},
   "outputs": [],
   "source": [
    "[nodes, distances] = ox.distance.nearest_nodes(inData.G,df.pickup_longitude,df.pickup_latitude, return_dist = True)\n",
    "df['origin'] = nodes\n",
    "df['origin_distance'] = distances"
   ]
  },
  {
   "cell_type": "code",
   "execution_count": 7,
   "id": "dc546159-46c7-4b00-a18d-706eceba7a66",
   "metadata": {},
   "outputs": [],
   "source": [
    "[nodes, distances] = ox.distance.nearest_nodes(inData.G,df.dropoff_longitude,df.dropoff_latitude, return_dist = True)\n",
    "df['destination'] = nodes\n",
    "df['destination_distance'] = distances"
   ]
  },
  {
   "cell_type": "code",
   "execution_count": 8,
   "id": "9e00ee69-d85a-4db8-8171-55acf11ba74c",
   "metadata": {},
   "outputs": [],
   "source": [
    "df['max_distance'] = df[[\"origin_distance\", \"destination_distance\"]].max(axis=1)\n",
    "df['2000'] = 2000\n",
    "df['max_distance'] = df[[\"max_distance\", '2000']].min(axis=1)"
   ]
  },
  {
   "cell_type": "code",
   "execution_count": 9,
   "id": "c30284ef-a1e2-43bd-8b28-9271fa4a8f52",
   "metadata": {},
   "outputs": [
    {
     "data": {
      "text/plain": [
       "<matplotlib.lines.Line2D at 0x18d516ac0>"
      ]
     },
     "execution_count": 9,
     "metadata": {},
     "output_type": "execute_result"
    },
    {
     "data": {
      "image/png": "[encoded data removed]",
      "text/plain": [
       "<Figure size 432x288 with 1 Axes>"
      ]
     },
     "metadata": {
      "needs_background": "light"
     },
     "output_type": "display_data"
    }
   ],
   "source": [
    "kwargs = {'cumulative': True}\n",
    "import matplotlib.pyplot as plt\n",
    "import seaborn as sns\n",
    "fig, ax = plt.subplots()\n",
    "sns.distplot(df.max_distance, hist_kws=kwargs, kde_kws=kwargs, ax = ax,bins = 300)\n",
    "ax.set_xlim(0,2000)\n",
    "ax.axvline(150,0,1)"
   ]
  },
  {
   "cell_type": "code",
   "execution_count": 10,
   "id": "ce3de418-a72b-4ba3-948b-2686d8a33f78",
   "metadata": {},
   "outputs": [],
   "source": [
    "dist_threshold = 150 # filter for the manhattan trips only\n",
    "df = df[(df.max_distance<dist_threshold)]"
   ]
  },
  {
   "cell_type": "code",
   "execution_count": 13,
   "id": "76b1a768-9d7c-4272-a105-bab953b6d85d",
   "metadata": {},
   "outputs": [],
   "source": [
    "COLS = ['pickup_datetime', 'dropoff_datetime','trip_duration', 'origin','destination']\n",
    "df[COLS].to_csv('ExMAS/data/nyc/nyc_requests.csv')"
   ]
  },
  {
   "cell_type": "code",
   "execution_count": null,
   "id": "d26cc0b0-4af3-4da7-bc79-66d472e12ca6",
   "metadata": {},
   "outputs": [],
   "source": []
  }
 ],
 "metadata": {
  "kernelspec": {
   "display_name": "Python 3 (ipykernel)",
   "language": "python",
   "name": "python3"
  },
  "language_info": {
   "codemirror_mode": {
    "name": "ipython",
    "version": 3
   },
   "file_extension": ".py",
   "mimetype": "text/x-python",
   "name": "python",
   "nbconvert_exporter": "python",
   "pygments_lexer": "ipython3",
   "version": "3.9.7"
  }
 },
 "nbformat": 4,
 "nbformat_minor": 5
}
